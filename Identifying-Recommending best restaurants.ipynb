{
 "cells": [
  {
   "cell_type": "markdown",
   "id": "89423714",
   "metadata": {},
   "source": [
    "# Importing all necessary libraries:"
   ]
  },
  {
   "cell_type": "code",
   "execution_count": 2,
   "id": "d8ba674b",
   "metadata": {},
   "outputs": [],
   "source": [
    "import numpy as np\n",
    "import pandas as pd\n",
    "import seaborn as sns\n",
    "import matplotlib.pyplot as plt\n",
    "%matplotlib inline"
   ]
  },
  {
   "cell_type": "markdown",
   "id": "fc0c6ee3",
   "metadata": {},
   "source": [
    "# Importing the data:"
   ]
  },
  {
   "cell_type": "code",
   "execution_count": 3,
   "id": "4ddce8bf",
   "metadata": {},
   "outputs": [],
   "source": [
    "data = pd.read_excel(\"D:\\Simplilearn\\Capstone\\Project 1\\data.xlsx\")"
   ]
  },
  {
   "cell_type": "markdown",
   "id": "17d19613",
   "metadata": {},
   "source": [
    "# Glimpse of data:"
   ]
  },
  {
   "cell_type": "code",
   "execution_count": 4,
   "id": "fa0fb576",
   "metadata": {},
   "outputs": [
    {
     "data": {
      "text/html": [
       "<div>\n",
       "<style scoped>\n",
       "    .dataframe tbody tr th:only-of-type {\n",
       "        vertical-align: middle;\n",
       "    }\n",
       "\n",
       "    .dataframe tbody tr th {\n",
       "        vertical-align: top;\n",
       "    }\n",
       "\n",
       "    .dataframe thead th {\n",
       "        text-align: right;\n",
       "    }\n",
       "</style>\n",
       "<table border=\"1\" class=\"dataframe\">\n",
       "  <thead>\n",
       "    <tr style=\"text-align: right;\">\n",
       "      <th></th>\n",
       "      <th>Restaurant ID</th>\n",
       "      <th>Restaurant Name</th>\n",
       "      <th>Country Code</th>\n",
       "      <th>City</th>\n",
       "      <th>Address</th>\n",
       "      <th>Locality</th>\n",
       "      <th>Locality Verbose</th>\n",
       "      <th>Longitude</th>\n",
       "      <th>Latitude</th>\n",
       "      <th>Cuisines</th>\n",
       "      <th>Average Cost for two</th>\n",
       "      <th>Currency</th>\n",
       "      <th>Has Table booking</th>\n",
       "      <th>Has Online delivery</th>\n",
       "      <th>Price range</th>\n",
       "      <th>Aggregate rating</th>\n",
       "      <th>Rating color</th>\n",
       "      <th>Rating text</th>\n",
       "      <th>Votes</th>\n",
       "    </tr>\n",
       "  </thead>\n",
       "  <tbody>\n",
       "    <tr>\n",
       "      <th>0</th>\n",
       "      <td>7402935</td>\n",
       "      <td>Skye</td>\n",
       "      <td>94</td>\n",
       "      <td>Jakarta</td>\n",
       "      <td>Menara BCA, Lantai 56, Jl. MH. Thamrin, Thamri...</td>\n",
       "      <td>Grand Indonesia Mall, Thamrin</td>\n",
       "      <td>Grand Indonesia Mall, Thamrin, Jakarta</td>\n",
       "      <td>106.821999</td>\n",
       "      <td>-6.196778</td>\n",
       "      <td>Italian, Continental</td>\n",
       "      <td>800000</td>\n",
       "      <td>Indonesian Rupiah(IDR)</td>\n",
       "      <td>No</td>\n",
       "      <td>No</td>\n",
       "      <td>3</td>\n",
       "      <td>4.1</td>\n",
       "      <td>Green</td>\n",
       "      <td>Very Good</td>\n",
       "      <td>1498</td>\n",
       "    </tr>\n",
       "    <tr>\n",
       "      <th>1</th>\n",
       "      <td>7410290</td>\n",
       "      <td>Satoo - Hotel Shangri-La</td>\n",
       "      <td>94</td>\n",
       "      <td>Jakarta</td>\n",
       "      <td>Hotel Shangri-La, Jl. Jend. Sudirman</td>\n",
       "      <td>Hotel Shangri-La, Sudirman</td>\n",
       "      <td>Hotel Shangri-La, Sudirman, Jakarta</td>\n",
       "      <td>106.818961</td>\n",
       "      <td>-6.203292</td>\n",
       "      <td>Asian, Indonesian, Western</td>\n",
       "      <td>800000</td>\n",
       "      <td>Indonesian Rupiah(IDR)</td>\n",
       "      <td>No</td>\n",
       "      <td>No</td>\n",
       "      <td>3</td>\n",
       "      <td>4.6</td>\n",
       "      <td>Dark Green</td>\n",
       "      <td>Excellent</td>\n",
       "      <td>873</td>\n",
       "    </tr>\n",
       "    <tr>\n",
       "      <th>2</th>\n",
       "      <td>7420899</td>\n",
       "      <td>Sushi Masa</td>\n",
       "      <td>94</td>\n",
       "      <td>Jakarta</td>\n",
       "      <td>Jl. Tuna Raya No. 5, Penjaringan</td>\n",
       "      <td>Penjaringan</td>\n",
       "      <td>Penjaringan, Jakarta</td>\n",
       "      <td>106.800144</td>\n",
       "      <td>-6.101298</td>\n",
       "      <td>Sushi, Japanese</td>\n",
       "      <td>500000</td>\n",
       "      <td>Indonesian Rupiah(IDR)</td>\n",
       "      <td>No</td>\n",
       "      <td>No</td>\n",
       "      <td>3</td>\n",
       "      <td>4.9</td>\n",
       "      <td>Dark Green</td>\n",
       "      <td>Excellent</td>\n",
       "      <td>605</td>\n",
       "    </tr>\n",
       "    <tr>\n",
       "      <th>3</th>\n",
       "      <td>7421967</td>\n",
       "      <td>3 Wise Monkeys</td>\n",
       "      <td>94</td>\n",
       "      <td>Jakarta</td>\n",
       "      <td>Jl. Suryo No. 26, Senopati, Jakarta</td>\n",
       "      <td>Senopati</td>\n",
       "      <td>Senopati, Jakarta</td>\n",
       "      <td>106.813400</td>\n",
       "      <td>-6.235241</td>\n",
       "      <td>Japanese</td>\n",
       "      <td>450000</td>\n",
       "      <td>Indonesian Rupiah(IDR)</td>\n",
       "      <td>No</td>\n",
       "      <td>No</td>\n",
       "      <td>3</td>\n",
       "      <td>4.2</td>\n",
       "      <td>Green</td>\n",
       "      <td>Very Good</td>\n",
       "      <td>395</td>\n",
       "    </tr>\n",
       "    <tr>\n",
       "      <th>4</th>\n",
       "      <td>7422489</td>\n",
       "      <td>Avec Moi Restaurant and Bar</td>\n",
       "      <td>94</td>\n",
       "      <td>Jakarta</td>\n",
       "      <td>Gedung PIC, Jl. Teluk Betung 43, Thamrin, Jakarta</td>\n",
       "      <td>Thamrin</td>\n",
       "      <td>Thamrin, Jakarta</td>\n",
       "      <td>106.821023</td>\n",
       "      <td>-6.196270</td>\n",
       "      <td>French, Western</td>\n",
       "      <td>350000</td>\n",
       "      <td>Indonesian Rupiah(IDR)</td>\n",
       "      <td>No</td>\n",
       "      <td>No</td>\n",
       "      <td>3</td>\n",
       "      <td>4.3</td>\n",
       "      <td>Green</td>\n",
       "      <td>Very Good</td>\n",
       "      <td>243</td>\n",
       "    </tr>\n",
       "    <tr>\n",
       "      <th>5</th>\n",
       "      <td>18352452</td>\n",
       "      <td>Lucky Cat Coffee &amp; Kitchen</td>\n",
       "      <td>94</td>\n",
       "      <td>Jakarta</td>\n",
       "      <td>Plaza Festival, South Parking, Jl. HR Rasuna S...</td>\n",
       "      <td>Plaza Festival, Kuningan</td>\n",
       "      <td>Plaza Festival, Kuningan, Jakarta</td>\n",
       "      <td>106.831748</td>\n",
       "      <td>-6.218932</td>\n",
       "      <td>Cafe, Western</td>\n",
       "      <td>300000</td>\n",
       "      <td>Indonesian Rupiah(IDR)</td>\n",
       "      <td>No</td>\n",
       "      <td>No</td>\n",
       "      <td>3</td>\n",
       "      <td>4.3</td>\n",
       "      <td>Green</td>\n",
       "      <td>Very Good</td>\n",
       "      <td>458</td>\n",
       "    </tr>\n",
       "    <tr>\n",
       "      <th>6</th>\n",
       "      <td>18386856</td>\n",
       "      <td>Onokabe</td>\n",
       "      <td>94</td>\n",
       "      <td>Tangerang</td>\n",
       "      <td>Alam Sutera Town Center, Jl. Alam Utama, Serpo...</td>\n",
       "      <td>Alam Sutera Town Center, Serpong Utara</td>\n",
       "      <td>Alam Sutera Town Center, Serpong Utara, Tangerang</td>\n",
       "      <td>106.652688</td>\n",
       "      <td>-6.241792</td>\n",
       "      <td>Indonesian</td>\n",
       "      <td>300000</td>\n",
       "      <td>Indonesian Rupiah(IDR)</td>\n",
       "      <td>No</td>\n",
       "      <td>No</td>\n",
       "      <td>3</td>\n",
       "      <td>3.7</td>\n",
       "      <td>Yellow</td>\n",
       "      <td>Good</td>\n",
       "      <td>155</td>\n",
       "    </tr>\n",
       "    <tr>\n",
       "      <th>7</th>\n",
       "      <td>7423482</td>\n",
       "      <td>Lemongrass</td>\n",
       "      <td>94</td>\n",
       "      <td>Bogor</td>\n",
       "      <td>Jl. Raya Pajajaran No. 21, Bogor Utara, Bogor</td>\n",
       "      <td>Bogor Utara</td>\n",
       "      <td>Bogor Utara, Bogor</td>\n",
       "      <td>106.807850</td>\n",
       "      <td>-6.576578</td>\n",
       "      <td>Peranakan, Indonesian</td>\n",
       "      <td>250000</td>\n",
       "      <td>Indonesian Rupiah(IDR)</td>\n",
       "      <td>No</td>\n",
       "      <td>No</td>\n",
       "      <td>3</td>\n",
       "      <td>4.0</td>\n",
       "      <td>Green</td>\n",
       "      <td>Very Good</td>\n",
       "      <td>1159</td>\n",
       "    </tr>\n",
       "    <tr>\n",
       "      <th>8</th>\n",
       "      <td>18391256</td>\n",
       "      <td>MONKS</td>\n",
       "      <td>94</td>\n",
       "      <td>Jakarta</td>\n",
       "      <td>Komplek Graha Boulevard Timur, Summarecon Kela...</td>\n",
       "      <td>Kelapa Gading</td>\n",
       "      <td>Kelapa Gading, Jakarta</td>\n",
       "      <td>106.911335</td>\n",
       "      <td>-6.163948</td>\n",
       "      <td>Western, Asian, Cafe</td>\n",
       "      <td>250000</td>\n",
       "      <td>Indonesian Rupiah(IDR)</td>\n",
       "      <td>No</td>\n",
       "      <td>No</td>\n",
       "      <td>3</td>\n",
       "      <td>4.2</td>\n",
       "      <td>Green</td>\n",
       "      <td>Very Good</td>\n",
       "      <td>259</td>\n",
       "    </tr>\n",
       "    <tr>\n",
       "      <th>9</th>\n",
       "      <td>7422633</td>\n",
       "      <td>Talaga Sampireun</td>\n",
       "      <td>94</td>\n",
       "      <td>Jakarta</td>\n",
       "      <td>Jl. Lingkar Luar Barat</td>\n",
       "      <td>Cengkareng</td>\n",
       "      <td>Cengkareng, Jakarta</td>\n",
       "      <td>106.728508</td>\n",
       "      <td>-6.168467</td>\n",
       "      <td>Sunda, Indonesian</td>\n",
       "      <td>200000</td>\n",
       "      <td>Indonesian Rupiah(IDR)</td>\n",
       "      <td>No</td>\n",
       "      <td>No</td>\n",
       "      <td>3</td>\n",
       "      <td>4.9</td>\n",
       "      <td>Dark Green</td>\n",
       "      <td>Excellent</td>\n",
       "      <td>1662</td>\n",
       "    </tr>\n",
       "  </tbody>\n",
       "</table>\n",
       "</div>"
      ],
      "text/plain": [
       "   Restaurant ID              Restaurant Name  Country Code       City  \\\n",
       "0        7402935                         Skye            94    Jakarta   \n",
       "1        7410290     Satoo - Hotel Shangri-La            94    Jakarta   \n",
       "2        7420899                   Sushi Masa            94    Jakarta   \n",
       "3        7421967               3 Wise Monkeys            94    Jakarta   \n",
       "4        7422489  Avec Moi Restaurant and Bar            94    Jakarta   \n",
       "5       18352452   Lucky Cat Coffee & Kitchen            94    Jakarta   \n",
       "6       18386856                      Onokabe            94  Tangerang   \n",
       "7        7423482                   Lemongrass            94      Bogor   \n",
       "8       18391256                        MONKS            94    Jakarta   \n",
       "9        7422633             Talaga Sampireun            94    Jakarta   \n",
       "\n",
       "                                             Address  \\\n",
       "0  Menara BCA, Lantai 56, Jl. MH. Thamrin, Thamri...   \n",
       "1               Hotel Shangri-La, Jl. Jend. Sudirman   \n",
       "2                   Jl. Tuna Raya No. 5, Penjaringan   \n",
       "3                Jl. Suryo No. 26, Senopati, Jakarta   \n",
       "4  Gedung PIC, Jl. Teluk Betung 43, Thamrin, Jakarta   \n",
       "5  Plaza Festival, South Parking, Jl. HR Rasuna S...   \n",
       "6  Alam Sutera Town Center, Jl. Alam Utama, Serpo...   \n",
       "7      Jl. Raya Pajajaran No. 21, Bogor Utara, Bogor   \n",
       "8  Komplek Graha Boulevard Timur, Summarecon Kela...   \n",
       "9                             Jl. Lingkar Luar Barat   \n",
       "\n",
       "                                 Locality  \\\n",
       "0           Grand Indonesia Mall, Thamrin   \n",
       "1              Hotel Shangri-La, Sudirman   \n",
       "2                             Penjaringan   \n",
       "3                                Senopati   \n",
       "4                                 Thamrin   \n",
       "5                Plaza Festival, Kuningan   \n",
       "6  Alam Sutera Town Center, Serpong Utara   \n",
       "7                             Bogor Utara   \n",
       "8                           Kelapa Gading   \n",
       "9                              Cengkareng   \n",
       "\n",
       "                                    Locality Verbose   Longitude  Latitude  \\\n",
       "0             Grand Indonesia Mall, Thamrin, Jakarta  106.821999 -6.196778   \n",
       "1                Hotel Shangri-La, Sudirman, Jakarta  106.818961 -6.203292   \n",
       "2                               Penjaringan, Jakarta  106.800144 -6.101298   \n",
       "3                                  Senopati, Jakarta  106.813400 -6.235241   \n",
       "4                                   Thamrin, Jakarta  106.821023 -6.196270   \n",
       "5                  Plaza Festival, Kuningan, Jakarta  106.831748 -6.218932   \n",
       "6  Alam Sutera Town Center, Serpong Utara, Tangerang  106.652688 -6.241792   \n",
       "7                                 Bogor Utara, Bogor  106.807850 -6.576578   \n",
       "8                             Kelapa Gading, Jakarta  106.911335 -6.163948   \n",
       "9                                Cengkareng, Jakarta  106.728508 -6.168467   \n",
       "\n",
       "                     Cuisines  Average Cost for two                Currency  \\\n",
       "0        Italian, Continental                800000  Indonesian Rupiah(IDR)   \n",
       "1  Asian, Indonesian, Western                800000  Indonesian Rupiah(IDR)   \n",
       "2             Sushi, Japanese                500000  Indonesian Rupiah(IDR)   \n",
       "3                    Japanese                450000  Indonesian Rupiah(IDR)   \n",
       "4             French, Western                350000  Indonesian Rupiah(IDR)   \n",
       "5               Cafe, Western                300000  Indonesian Rupiah(IDR)   \n",
       "6                  Indonesian                300000  Indonesian Rupiah(IDR)   \n",
       "7       Peranakan, Indonesian                250000  Indonesian Rupiah(IDR)   \n",
       "8        Western, Asian, Cafe                250000  Indonesian Rupiah(IDR)   \n",
       "9           Sunda, Indonesian                200000  Indonesian Rupiah(IDR)   \n",
       "\n",
       "  Has Table booking Has Online delivery  Price range  Aggregate rating  \\\n",
       "0                No                  No            3               4.1   \n",
       "1                No                  No            3               4.6   \n",
       "2                No                  No            3               4.9   \n",
       "3                No                  No            3               4.2   \n",
       "4                No                  No            3               4.3   \n",
       "5                No                  No            3               4.3   \n",
       "6                No                  No            3               3.7   \n",
       "7                No                  No            3               4.0   \n",
       "8                No                  No            3               4.2   \n",
       "9                No                  No            3               4.9   \n",
       "\n",
       "  Rating color Rating text  Votes  \n",
       "0        Green   Very Good   1498  \n",
       "1   Dark Green   Excellent    873  \n",
       "2   Dark Green   Excellent    605  \n",
       "3        Green   Very Good    395  \n",
       "4        Green   Very Good    243  \n",
       "5        Green   Very Good    458  \n",
       "6       Yellow        Good    155  \n",
       "7        Green   Very Good   1159  \n",
       "8        Green   Very Good    259  \n",
       "9   Dark Green   Excellent   1662  "
      ]
     },
     "execution_count": 4,
     "metadata": {},
     "output_type": "execute_result"
    }
   ],
   "source": [
    "data.head(10)"
   ]
  },
  {
   "cell_type": "markdown",
   "id": "c9ca867a",
   "metadata": {},
   "source": [
    "# Understanding data:"
   ]
  },
  {
   "cell_type": "code",
   "execution_count": 5,
   "id": "229ddcb7",
   "metadata": {},
   "outputs": [
    {
     "data": {
      "text/plain": [
       "(9551, 19)"
      ]
     },
     "execution_count": 5,
     "metadata": {},
     "output_type": "execute_result"
    }
   ],
   "source": [
    "data.shape"
   ]
  },
  {
   "cell_type": "code",
   "execution_count": 6,
   "id": "fd97475a",
   "metadata": {},
   "outputs": [
    {
     "name": "stdout",
     "output_type": "stream",
     "text": [
      "<class 'pandas.core.frame.DataFrame'>\n",
      "RangeIndex: 9551 entries, 0 to 9550\n",
      "Data columns (total 19 columns):\n",
      " #   Column                Non-Null Count  Dtype  \n",
      "---  ------                --------------  -----  \n",
      " 0   Restaurant ID         9551 non-null   int64  \n",
      " 1   Restaurant Name       9550 non-null   object \n",
      " 2   Country Code          9551 non-null   int64  \n",
      " 3   City                  9551 non-null   object \n",
      " 4   Address               9551 non-null   object \n",
      " 5   Locality              9551 non-null   object \n",
      " 6   Locality Verbose      9551 non-null   object \n",
      " 7   Longitude             9551 non-null   float64\n",
      " 8   Latitude              9551 non-null   float64\n",
      " 9   Cuisines              9542 non-null   object \n",
      " 10  Average Cost for two  9551 non-null   int64  \n",
      " 11  Currency              9551 non-null   object \n",
      " 12  Has Table booking     9551 non-null   object \n",
      " 13  Has Online delivery   9551 non-null   object \n",
      " 14  Price range           9551 non-null   int64  \n",
      " 15  Aggregate rating      9551 non-null   float64\n",
      " 16  Rating color          9551 non-null   object \n",
      " 17  Rating text           9551 non-null   object \n",
      " 18  Votes                 9551 non-null   int64  \n",
      "dtypes: float64(3), int64(5), object(11)\n",
      "memory usage: 1.4+ MB\n"
     ]
    }
   ],
   "source": [
    "data.info()"
   ]
  },
  {
   "cell_type": "code",
   "execution_count": 7,
   "id": "56323984",
   "metadata": {},
   "outputs": [
    {
     "data": {
      "text/plain": [
       "Restaurant ID           9551\n",
       "Restaurant Name         7445\n",
       "Country Code              15\n",
       "City                     141\n",
       "Address                 8918\n",
       "Locality                1208\n",
       "Locality Verbose        1265\n",
       "Longitude               8120\n",
       "Latitude                8677\n",
       "Cuisines                1825\n",
       "Average Cost for two     140\n",
       "Currency                  12\n",
       "Has Table booking          2\n",
       "Has Online delivery        2\n",
       "Price range                4\n",
       "Aggregate rating          33\n",
       "Rating color               6\n",
       "Rating text                6\n",
       "Votes                   1012\n",
       "dtype: int64"
      ]
     },
     "execution_count": 7,
     "metadata": {},
     "output_type": "execute_result"
    }
   ],
   "source": [
    "data.nunique()"
   ]
  },
  {
   "cell_type": "markdown",
   "id": "7ceb7716",
   "metadata": {},
   "source": [
    "###### There are categorical fields like country code, currency (of no use), price range, has table booking or has online delivery, rating color or text but the type mentioned is not correct. It would be better if changed them into categorical fields for further analysis, only if needed."
   ]
  },
  {
   "cell_type": "markdown",
   "id": "0acdbec6",
   "metadata": {},
   "source": [
    "# Checking for null values:"
   ]
  },
  {
   "cell_type": "code",
   "execution_count": 8,
   "id": "0b0a95b2",
   "metadata": {},
   "outputs": [
    {
     "data": {
      "text/plain": [
       "Restaurant ID           0\n",
       "Restaurant Name         1\n",
       "Country Code            0\n",
       "City                    0\n",
       "Address                 0\n",
       "Locality                0\n",
       "Locality Verbose        0\n",
       "Longitude               0\n",
       "Latitude                0\n",
       "Cuisines                9\n",
       "Average Cost for two    0\n",
       "Currency                0\n",
       "Has Table booking       0\n",
       "Has Online delivery     0\n",
       "Price range             0\n",
       "Aggregate rating        0\n",
       "Rating color            0\n",
       "Rating text             0\n",
       "Votes                   0\n",
       "dtype: int64"
      ]
     },
     "execution_count": 8,
     "metadata": {},
     "output_type": "execute_result"
    }
   ],
   "source": [
    "data.isnull().sum()"
   ]
  },
  {
   "cell_type": "markdown",
   "id": "63244a0f",
   "metadata": {},
   "source": [
    "# Total null values in data:"
   ]
  },
  {
   "cell_type": "code",
   "execution_count": 9,
   "id": "67454f77",
   "metadata": {},
   "outputs": [
    {
     "data": {
      "text/plain": [
       "10"
      ]
     },
     "execution_count": 9,
     "metadata": {},
     "output_type": "execute_result"
    }
   ],
   "source": [
    "data.isnull().sum().sum()"
   ]
  },
  {
   "cell_type": "markdown",
   "id": "aef358d9",
   "metadata": {},
   "source": [
    "###### In the above data only 10 null values are there. So it would be better to drop all null values because the number of null values is less."
   ]
  },
  {
   "cell_type": "code",
   "execution_count": 10,
   "id": "175f1db0",
   "metadata": {},
   "outputs": [],
   "source": [
    "dt = data.dropna()"
   ]
  },
  {
   "cell_type": "code",
   "execution_count": 12,
   "id": "1d462972",
   "metadata": {},
   "outputs": [
    {
     "data": {
      "text/plain": [
       "(9541, 19)"
      ]
     },
     "execution_count": 12,
     "metadata": {},
     "output_type": "execute_result"
    }
   ],
   "source": [
    "dt.shape"
   ]
  },
  {
   "cell_type": "markdown",
   "id": "9adef484",
   "metadata": {},
   "source": [
    "###### so the rows dropped down to 9541 as we dropped 10 null values."
   ]
  },
  {
   "cell_type": "markdown",
   "id": "33ce634c",
   "metadata": {},
   "source": [
    "# Rechecking for null values again:"
   ]
  },
  {
   "cell_type": "code",
   "execution_count": 13,
   "id": "3ad40657",
   "metadata": {},
   "outputs": [
    {
     "data": {
      "text/plain": [
       "0"
      ]
     },
     "execution_count": 13,
     "metadata": {},
     "output_type": "execute_result"
    }
   ],
   "source": [
    "dt.isnull().sum().sum()"
   ]
  },
  {
   "cell_type": "markdown",
   "id": "9cf24c62",
   "metadata": {},
   "source": [
    "###### So now there is no null values in the data. Moving forward to next EDA process:"
   ]
  },
  {
   "cell_type": "markdown",
   "id": "abb54e34",
   "metadata": {},
   "source": [
    "# Importing Country Code from another data file:"
   ]
  },
  {
   "cell_type": "code",
   "execution_count": 14,
   "id": "d1039e24",
   "metadata": {},
   "outputs": [],
   "source": [
    "code = pd.read_excel(\"D:\\Simplilearn\\Capstone\\Project 1\\Country-Code.xlsx\")\n"
   ]
  },
  {
   "cell_type": "code",
   "execution_count": 15,
   "id": "88f02bf1",
   "metadata": {},
   "outputs": [
    {
     "data": {
      "text/html": [
       "<div>\n",
       "<style scoped>\n",
       "    .dataframe tbody tr th:only-of-type {\n",
       "        vertical-align: middle;\n",
       "    }\n",
       "\n",
       "    .dataframe tbody tr th {\n",
       "        vertical-align: top;\n",
       "    }\n",
       "\n",
       "    .dataframe thead th {\n",
       "        text-align: right;\n",
       "    }\n",
       "</style>\n",
       "<table border=\"1\" class=\"dataframe\">\n",
       "  <thead>\n",
       "    <tr style=\"text-align: right;\">\n",
       "      <th></th>\n",
       "      <th>Country Code</th>\n",
       "      <th>Country</th>\n",
       "    </tr>\n",
       "  </thead>\n",
       "  <tbody>\n",
       "    <tr>\n",
       "      <th>0</th>\n",
       "      <td>1</td>\n",
       "      <td>India</td>\n",
       "    </tr>\n",
       "    <tr>\n",
       "      <th>1</th>\n",
       "      <td>14</td>\n",
       "      <td>Australia</td>\n",
       "    </tr>\n",
       "    <tr>\n",
       "      <th>2</th>\n",
       "      <td>30</td>\n",
       "      <td>Brazil</td>\n",
       "    </tr>\n",
       "    <tr>\n",
       "      <th>3</th>\n",
       "      <td>37</td>\n",
       "      <td>Canada</td>\n",
       "    </tr>\n",
       "    <tr>\n",
       "      <th>4</th>\n",
       "      <td>94</td>\n",
       "      <td>Indonesia</td>\n",
       "    </tr>\n",
       "    <tr>\n",
       "      <th>5</th>\n",
       "      <td>148</td>\n",
       "      <td>New Zealand</td>\n",
       "    </tr>\n",
       "    <tr>\n",
       "      <th>6</th>\n",
       "      <td>162</td>\n",
       "      <td>Phillipines</td>\n",
       "    </tr>\n",
       "    <tr>\n",
       "      <th>7</th>\n",
       "      <td>166</td>\n",
       "      <td>Qatar</td>\n",
       "    </tr>\n",
       "    <tr>\n",
       "      <th>8</th>\n",
       "      <td>184</td>\n",
       "      <td>Singapore</td>\n",
       "    </tr>\n",
       "    <tr>\n",
       "      <th>9</th>\n",
       "      <td>189</td>\n",
       "      <td>South Africa</td>\n",
       "    </tr>\n",
       "    <tr>\n",
       "      <th>10</th>\n",
       "      <td>191</td>\n",
       "      <td>Sri Lanka</td>\n",
       "    </tr>\n",
       "    <tr>\n",
       "      <th>11</th>\n",
       "      <td>208</td>\n",
       "      <td>Turkey</td>\n",
       "    </tr>\n",
       "    <tr>\n",
       "      <th>12</th>\n",
       "      <td>214</td>\n",
       "      <td>UAE</td>\n",
       "    </tr>\n",
       "    <tr>\n",
       "      <th>13</th>\n",
       "      <td>215</td>\n",
       "      <td>United Kingdom</td>\n",
       "    </tr>\n",
       "    <tr>\n",
       "      <th>14</th>\n",
       "      <td>216</td>\n",
       "      <td>United States</td>\n",
       "    </tr>\n",
       "  </tbody>\n",
       "</table>\n",
       "</div>"
      ],
      "text/plain": [
       "    Country Code         Country\n",
       "0              1           India\n",
       "1             14       Australia\n",
       "2             30          Brazil\n",
       "3             37          Canada\n",
       "4             94       Indonesia\n",
       "5            148     New Zealand\n",
       "6            162     Phillipines\n",
       "7            166           Qatar\n",
       "8            184       Singapore\n",
       "9            189    South Africa\n",
       "10           191       Sri Lanka\n",
       "11           208          Turkey\n",
       "12           214             UAE\n",
       "13           215  United Kingdom\n",
       "14           216   United States"
      ]
     },
     "execution_count": 15,
     "metadata": {},
     "output_type": "execute_result"
    }
   ],
   "source": [
    "code"
   ]
  },
  {
   "cell_type": "markdown",
   "id": "607d170b",
   "metadata": {},
   "source": [
    "###### This country field will help us to identify with country name as we can join(merge) both data on Country code field."
   ]
  },
  {
   "cell_type": "markdown",
   "id": "5808970d",
   "metadata": {},
   "source": [
    "# Merging the file:"
   ]
  },
  {
   "cell_type": "code",
   "execution_count": 16,
   "id": "e946779c",
   "metadata": {},
   "outputs": [],
   "source": [
    "dt1 = pd.merge(dt, code, on = 'Country Code', how = 'left')"
   ]
  },
  {
   "cell_type": "code",
   "execution_count": 17,
   "id": "01a5f116",
   "metadata": {},
   "outputs": [
    {
     "data": {
      "text/html": [
       "<div>\n",
       "<style scoped>\n",
       "    .dataframe tbody tr th:only-of-type {\n",
       "        vertical-align: middle;\n",
       "    }\n",
       "\n",
       "    .dataframe tbody tr th {\n",
       "        vertical-align: top;\n",
       "    }\n",
       "\n",
       "    .dataframe thead th {\n",
       "        text-align: right;\n",
       "    }\n",
       "</style>\n",
       "<table border=\"1\" class=\"dataframe\">\n",
       "  <thead>\n",
       "    <tr style=\"text-align: right;\">\n",
       "      <th></th>\n",
       "      <th>Restaurant ID</th>\n",
       "      <th>Restaurant Name</th>\n",
       "      <th>Country Code</th>\n",
       "      <th>City</th>\n",
       "      <th>Address</th>\n",
       "      <th>Locality</th>\n",
       "      <th>Locality Verbose</th>\n",
       "      <th>Longitude</th>\n",
       "      <th>Latitude</th>\n",
       "      <th>Cuisines</th>\n",
       "      <th>Average Cost for two</th>\n",
       "      <th>Currency</th>\n",
       "      <th>Has Table booking</th>\n",
       "      <th>Has Online delivery</th>\n",
       "      <th>Price range</th>\n",
       "      <th>Aggregate rating</th>\n",
       "      <th>Rating color</th>\n",
       "      <th>Rating text</th>\n",
       "      <th>Votes</th>\n",
       "      <th>Country</th>\n",
       "    </tr>\n",
       "  </thead>\n",
       "  <tbody>\n",
       "    <tr>\n",
       "      <th>0</th>\n",
       "      <td>7402935</td>\n",
       "      <td>Skye</td>\n",
       "      <td>94</td>\n",
       "      <td>Jakarta</td>\n",
       "      <td>Menara BCA, Lantai 56, Jl. MH. Thamrin, Thamri...</td>\n",
       "      <td>Grand Indonesia Mall, Thamrin</td>\n",
       "      <td>Grand Indonesia Mall, Thamrin, Jakarta</td>\n",
       "      <td>106.821999</td>\n",
       "      <td>-6.196778</td>\n",
       "      <td>Italian, Continental</td>\n",
       "      <td>800000</td>\n",
       "      <td>Indonesian Rupiah(IDR)</td>\n",
       "      <td>No</td>\n",
       "      <td>No</td>\n",
       "      <td>3</td>\n",
       "      <td>4.1</td>\n",
       "      <td>Green</td>\n",
       "      <td>Very Good</td>\n",
       "      <td>1498</td>\n",
       "      <td>Indonesia</td>\n",
       "    </tr>\n",
       "    <tr>\n",
       "      <th>1</th>\n",
       "      <td>7410290</td>\n",
       "      <td>Satoo - Hotel Shangri-La</td>\n",
       "      <td>94</td>\n",
       "      <td>Jakarta</td>\n",
       "      <td>Hotel Shangri-La, Jl. Jend. Sudirman</td>\n",
       "      <td>Hotel Shangri-La, Sudirman</td>\n",
       "      <td>Hotel Shangri-La, Sudirman, Jakarta</td>\n",
       "      <td>106.818961</td>\n",
       "      <td>-6.203292</td>\n",
       "      <td>Asian, Indonesian, Western</td>\n",
       "      <td>800000</td>\n",
       "      <td>Indonesian Rupiah(IDR)</td>\n",
       "      <td>No</td>\n",
       "      <td>No</td>\n",
       "      <td>3</td>\n",
       "      <td>4.6</td>\n",
       "      <td>Dark Green</td>\n",
       "      <td>Excellent</td>\n",
       "      <td>873</td>\n",
       "      <td>Indonesia</td>\n",
       "    </tr>\n",
       "  </tbody>\n",
       "</table>\n",
       "</div>"
      ],
      "text/plain": [
       "   Restaurant ID           Restaurant Name  Country Code     City  \\\n",
       "0        7402935                      Skye            94  Jakarta   \n",
       "1        7410290  Satoo - Hotel Shangri-La            94  Jakarta   \n",
       "\n",
       "                                             Address  \\\n",
       "0  Menara BCA, Lantai 56, Jl. MH. Thamrin, Thamri...   \n",
       "1               Hotel Shangri-La, Jl. Jend. Sudirman   \n",
       "\n",
       "                        Locality                        Locality Verbose  \\\n",
       "0  Grand Indonesia Mall, Thamrin  Grand Indonesia Mall, Thamrin, Jakarta   \n",
       "1     Hotel Shangri-La, Sudirman     Hotel Shangri-La, Sudirman, Jakarta   \n",
       "\n",
       "    Longitude  Latitude                    Cuisines  Average Cost for two  \\\n",
       "0  106.821999 -6.196778        Italian, Continental                800000   \n",
       "1  106.818961 -6.203292  Asian, Indonesian, Western                800000   \n",
       "\n",
       "                 Currency Has Table booking Has Online delivery  Price range  \\\n",
       "0  Indonesian Rupiah(IDR)                No                  No            3   \n",
       "1  Indonesian Rupiah(IDR)                No                  No            3   \n",
       "\n",
       "   Aggregate rating Rating color Rating text  Votes    Country  \n",
       "0               4.1        Green   Very Good   1498  Indonesia  \n",
       "1               4.6   Dark Green   Excellent    873  Indonesia  "
      ]
     },
     "execution_count": 17,
     "metadata": {},
     "output_type": "execute_result"
    }
   ],
   "source": [
    "dt1.head(2)"
   ]
  },
  {
   "cell_type": "markdown",
   "id": "5005b591",
   "metadata": {},
   "source": [
    "###### The country name field is added on last."
   ]
  },
  {
   "cell_type": "markdown",
   "id": "b66e8d9f",
   "metadata": {},
   "source": [
    "# Finding cities with the maximum and minimum number of restaurants:"
   ]
  },
  {
   "cell_type": "code",
   "execution_count": 18,
   "id": "32633b18",
   "metadata": {},
   "outputs": [
    {
     "data": {
      "text/plain": [
       "New Delhi         5473\n",
       "Gurgaon           1118\n",
       "Noida             1080\n",
       "Faridabad          251\n",
       "Ghaziabad           25\n",
       "                  ... \n",
       "Consort              1\n",
       "Lincoln              1\n",
       "Monroe               1\n",
       "Potrero              1\n",
       "Lakes Entrance       1\n",
       "Name: City, Length: 140, dtype: int64"
      ]
     },
     "execution_count": 18,
     "metadata": {},
     "output_type": "execute_result"
    }
   ],
   "source": [
    "dt1['City'].value_counts()"
   ]
  },
  {
   "cell_type": "markdown",
   "id": "715fc6dd",
   "metadata": {},
   "source": [
    "###### OBSERVATION: From above result, it is quite clear that New Delhi has the maximum number of restaurant by 5473 and in contrast other cities like Potrero, Lakes Entrance and other cities are having only 1 restaurant."
   ]
  },
  {
   "cell_type": "code",
   "execution_count": 19,
   "id": "8447c051",
   "metadata": {},
   "outputs": [
    {
     "data": {
      "text/plain": [
       "India             8651\n",
       "United States      425\n",
       "United Kingdom      80\n",
       "South Africa        60\n",
       "UAE                 60\n",
       "Brazil              60\n",
       "New Zealand         40\n",
       "Turkey              34\n",
       "Australia           24\n",
       "Phillipines         22\n",
       "Indonesia           21\n",
       "Sri Lanka           20\n",
       "Qatar               20\n",
       "Singapore           20\n",
       "Canada               4\n",
       "Name: Country, dtype: int64"
      ]
     },
     "execution_count": 19,
     "metadata": {},
     "output_type": "execute_result"
    }
   ],
   "source": [
    "dt1['Country'].value_counts()"
   ]
  },
  {
   "cell_type": "markdown",
   "id": "4195f073",
   "metadata": {},
   "source": [
    "###### OBSERVATION: As per country wise, India has maximum number of restaurants and on the other hand, Canada has a miniumn number of restaurant. i.e, 4"
   ]
  },
  {
   "cell_type": "markdown",
   "id": "3738ab65",
   "metadata": {},
   "source": [
    "# Exploring how ratings are distributed overall:"
   ]
  },
  {
   "cell_type": "code",
   "execution_count": 20,
   "id": "3953f275",
   "metadata": {},
   "outputs": [
    {
     "data": {
      "text/plain": [
       "Index(['Restaurant ID', 'Restaurant Name', 'Country Code', 'City', 'Address',\n",
       "       'Locality', 'Locality Verbose', 'Longitude', 'Latitude', 'Cuisines',\n",
       "       'Average Cost for two', 'Currency', 'Has Table booking',\n",
       "       'Has Online delivery', 'Price range', 'Aggregate rating',\n",
       "       'Rating color', 'Rating text', 'Votes', 'Country'],\n",
       "      dtype='object')"
      ]
     },
     "execution_count": 20,
     "metadata": {},
     "output_type": "execute_result"
    }
   ],
   "source": [
    "dt1.columns"
   ]
  },
  {
   "cell_type": "markdown",
   "id": "5a4f6132",
   "metadata": {},
   "source": [
    "###### From the avaiilable column in the data, the ratings could be depended on has table booking, has online delivery, and here I'm also considering number of restaurant in particular location because we need to check does the higher availability will affect on rating or not. So further we are going to peform Relationalship Analysis (finding relationship between two fields.)"
   ]
  },
  {
   "cell_type": "markdown",
   "id": "f2d4da7e",
   "metadata": {},
   "source": [
    "### Has Table booking vs Aggregate rating:"
   ]
  },
  {
   "cell_type": "code",
   "execution_count": 21,
   "id": "64fbf091",
   "metadata": {},
   "outputs": [
    {
     "data": {
      "text/plain": [
       "Text(0.5, 1.0, 'Has Table booking Vs Rating')"
      ]
     },
     "execution_count": 21,
     "metadata": {},
     "output_type": "execute_result"
    },
    {
     "data": {
      "image/png": "[encoded data removed]",
      "text/plain": [
       "<Figure size 1080x576 with 1 Axes>"
      ]
     },
     "metadata": {},
     "output_type": "display_data"
    }
   ],
   "source": [
    "sns.set(rc={'figure.figsize':(15,8)})\n",
    "tb = sns.barplot(x = 'Has Table booking', y = 'Aggregate rating', data = dt1)\n",
    "tb.set_title(\"Has Table booking Vs Rating\")"
   ]
  },
  {
   "cell_type": "markdown",
   "id": "bc94bef2",
   "metadata": {},
   "source": [
    "###### OBSERVATION: Yes, Table booking has a impact on Rating.There is a difference in rating for restaurants that has table booking and one that doesn't. So it is better recommended for a restaurant to have an option of Table booking.\n"
   ]
  },
  {
   "cell_type": "markdown",
   "id": "2d87bb28",
   "metadata": {},
   "source": [
    "### Has online delivery Vs Aggregate rating:"
   ]
  },
  {
   "cell_type": "code",
   "execution_count": 22,
   "id": "cb98ba48",
   "metadata": {},
   "outputs": [
    {
     "data": {
      "text/plain": [
       "Text(0.5, 1.0, 'Has Online delivery Vs Rating')"
      ]
     },
     "execution_count": 22,
     "metadata": {},
     "output_type": "execute_result"
    },
    {
     "data": {
      "image/png": "[encoded data removed]",
      "text/plain": [
       "<Figure size 1080x576 with 1 Axes>"
      ]
     },
     "metadata": {},
     "output_type": "display_data"
    }
   ],
   "source": [
    "od = sns.barplot(x = 'Has Online delivery', y = 'Aggregate rating', data = dt1)\n",
    "od.set_title(\"Has Online delivery Vs Rating\")"
   ]
  },
  {
   "cell_type": "markdown",
   "id": "441691aa",
   "metadata": {},
   "source": [
    "###### OBSERVATION: Even Online delivery has an impact on Rating. Same goes with delivery availability as well, there is a difference. So it is recommended to go with the online delivery option."
   ]
  },
  {
   "cell_type": "markdown",
   "id": "5473f788",
   "metadata": {},
   "source": [
    "# Ratings by number of restaurants in a country:"
   ]
  },
  {
   "cell_type": "code",
   "execution_count": 23,
   "id": "0cda22b7",
   "metadata": {},
   "outputs": [
    {
     "data": {
      "image/png": "[encoded data removed]",
      "text/plain": [
       "<Figure size 1080x576 with 1 Axes>"
      ]
     },
     "metadata": {},
     "output_type": "display_data"
    }
   ],
   "source": [
    "cw = sns.barplot(x = 'Country',y = 'Aggregate rating',data = dt1)\n",
    "cw.set_title('Ratings by Country')\n",
    "plt.xticks(rotation = 90)\n",
    "plt.show()"
   ]
  },
  {
   "cell_type": "markdown",
   "id": "9e17ec56",
   "metadata": {},
   "source": [
    "###### OBSERVATION: It is cleared that the number of restaurant does not affect the ratings. Because here, the rating of India is low although it has maximum number of restaurants."
   ]
  },
  {
   "cell_type": "markdown",
   "id": "c4cf24a8",
   "metadata": {},
   "source": [
    "# Exploring the franchise:"
   ]
  },
  {
   "cell_type": "code",
   "execution_count": 24,
   "id": "1607cbe7",
   "metadata": {},
   "outputs": [
    {
     "data": {
      "text/html": [
       "<div>\n",
       "<style scoped>\n",
       "    .dataframe tbody tr th:only-of-type {\n",
       "        vertical-align: middle;\n",
       "    }\n",
       "\n",
       "    .dataframe tbody tr th {\n",
       "        vertical-align: top;\n",
       "    }\n",
       "\n",
       "    .dataframe thead th {\n",
       "        text-align: right;\n",
       "    }\n",
       "</style>\n",
       "<table border=\"1\" class=\"dataframe\">\n",
       "  <thead>\n",
       "    <tr style=\"text-align: right;\">\n",
       "      <th></th>\n",
       "      <th>Restaurant Name</th>\n",
       "      <th>Count</th>\n",
       "    </tr>\n",
       "  </thead>\n",
       "  <tbody>\n",
       "    <tr>\n",
       "      <th>0</th>\n",
       "      <td>12212</td>\n",
       "      <td>1</td>\n",
       "    </tr>\n",
       "    <tr>\n",
       "      <th>1</th>\n",
       "      <td>Let's Burrrp</td>\n",
       "      <td>1</td>\n",
       "    </tr>\n",
       "    <tr>\n",
       "      <th>2</th>\n",
       "      <td>#45</td>\n",
       "      <td>1</td>\n",
       "    </tr>\n",
       "    <tr>\n",
       "      <th>3</th>\n",
       "      <td>#Dilliwaala6</td>\n",
       "      <td>1</td>\n",
       "    </tr>\n",
       "    <tr>\n",
       "      <th>4</th>\n",
       "      <td>#InstaFreeze</td>\n",
       "      <td>1</td>\n",
       "    </tr>\n",
       "    <tr>\n",
       "      <th>...</th>\n",
       "      <td>...</td>\n",
       "      <td>...</td>\n",
       "    </tr>\n",
       "    <tr>\n",
       "      <th>7431</th>\n",
       "      <td>t Lounge by Dilmah</td>\n",
       "      <td>1</td>\n",
       "    </tr>\n",
       "    <tr>\n",
       "      <th>7432</th>\n",
       "      <td>tashas</td>\n",
       "      <td>1</td>\n",
       "    </tr>\n",
       "    <tr>\n",
       "      <th>7433</th>\n",
       "      <td>wagamama</td>\n",
       "      <td>1</td>\n",
       "    </tr>\n",
       "    <tr>\n",
       "      <th>7434</th>\n",
       "      <td>{Niche} - Cafe &amp; Bar</td>\n",
       "      <td>1</td>\n",
       "    </tr>\n",
       "    <tr>\n",
       "      <th>7435</th>\n",
       "      <td>Ìàukura€Ùa Sofras€±</td>\n",
       "      <td>1</td>\n",
       "    </tr>\n",
       "  </tbody>\n",
       "</table>\n",
       "<p>7436 rows × 2 columns</p>\n",
       "</div>"
      ],
      "text/plain": [
       "           Restaurant Name  Count\n",
       "0                    12212      1\n",
       "1             Let's Burrrp      1\n",
       "2                      #45      1\n",
       "3             #Dilliwaala6      1\n",
       "4             #InstaFreeze      1\n",
       "...                    ...    ...\n",
       "7431    t Lounge by Dilmah      1\n",
       "7432                tashas      1\n",
       "7433              wagamama      1\n",
       "7434  {Niche} - Cafe & Bar      1\n",
       "7435   Ìàukura€Ùa Sofras€±      1\n",
       "\n",
       "[7436 rows x 2 columns]"
      ]
     },
     "execution_count": 24,
     "metadata": {},
     "output_type": "execute_result"
    }
   ],
   "source": [
    "franchise = dt1.groupby(['Restaurant Name']).agg(Count = ('City','count')).reset_index()\n",
    "franchise"
   ]
  },
  {
   "cell_type": "code",
   "execution_count": 25,
   "id": "70d3d103",
   "metadata": {},
   "outputs": [
    {
     "data": {
      "text/html": [
       "<div>\n",
       "<style scoped>\n",
       "    .dataframe tbody tr th:only-of-type {\n",
       "        vertical-align: middle;\n",
       "    }\n",
       "\n",
       "    .dataframe tbody tr th {\n",
       "        vertical-align: top;\n",
       "    }\n",
       "\n",
       "    .dataframe thead th {\n",
       "        text-align: right;\n",
       "    }\n",
       "</style>\n",
       "<table border=\"1\" class=\"dataframe\">\n",
       "  <thead>\n",
       "    <tr style=\"text-align: right;\">\n",
       "      <th></th>\n",
       "      <th>Restaurant Name</th>\n",
       "      <th>Count</th>\n",
       "    </tr>\n",
       "  </thead>\n",
       "  <tbody>\n",
       "    <tr>\n",
       "      <th>0</th>\n",
       "      <td>Cafe Coffee Day</td>\n",
       "      <td>83</td>\n",
       "    </tr>\n",
       "    <tr>\n",
       "      <th>1</th>\n",
       "      <td>Domino's Pizza</td>\n",
       "      <td>79</td>\n",
       "    </tr>\n",
       "    <tr>\n",
       "      <th>2</th>\n",
       "      <td>Subway</td>\n",
       "      <td>63</td>\n",
       "    </tr>\n",
       "    <tr>\n",
       "      <th>3</th>\n",
       "      <td>Green Chick Chop</td>\n",
       "      <td>51</td>\n",
       "    </tr>\n",
       "    <tr>\n",
       "      <th>4</th>\n",
       "      <td>McDonald's</td>\n",
       "      <td>48</td>\n",
       "    </tr>\n",
       "    <tr>\n",
       "      <th>...</th>\n",
       "      <td>...</td>\n",
       "      <td>...</td>\n",
       "    </tr>\n",
       "    <tr>\n",
       "      <th>7431</th>\n",
       "      <td>Ghar Ki Handi</td>\n",
       "      <td>1</td>\n",
       "    </tr>\n",
       "    <tr>\n",
       "      <th>7432</th>\n",
       "      <td>Ghar Ka Swad</td>\n",
       "      <td>1</td>\n",
       "    </tr>\n",
       "    <tr>\n",
       "      <th>7433</th>\n",
       "      <td>Ghar Bistro Cafe</td>\n",
       "      <td>1</td>\n",
       "    </tr>\n",
       "    <tr>\n",
       "      <th>7434</th>\n",
       "      <td>Ghalib Kabab Corner</td>\n",
       "      <td>1</td>\n",
       "    </tr>\n",
       "    <tr>\n",
       "      <th>7435</th>\n",
       "      <td>Ìàukura€Ùa Sofras€±</td>\n",
       "      <td>1</td>\n",
       "    </tr>\n",
       "  </tbody>\n",
       "</table>\n",
       "<p>7436 rows × 2 columns</p>\n",
       "</div>"
      ],
      "text/plain": [
       "          Restaurant Name  Count\n",
       "0         Cafe Coffee Day     83\n",
       "1          Domino's Pizza     79\n",
       "2                  Subway     63\n",
       "3        Green Chick Chop     51\n",
       "4              McDonald's     48\n",
       "...                   ...    ...\n",
       "7431        Ghar Ki Handi      1\n",
       "7432         Ghar Ka Swad      1\n",
       "7433     Ghar Bistro Cafe      1\n",
       "7434  Ghalib Kabab Corner      1\n",
       "7435  Ìàukura€Ùa Sofras€±      1\n",
       "\n",
       "[7436 rows x 2 columns]"
      ]
     },
     "execution_count": 25,
     "metadata": {},
     "output_type": "execute_result"
    }
   ],
   "source": [
    "final_franchise = franchise.sort_values(by = 'Count',ascending=False).reset_index(drop=True)\n",
    "final_franchise"
   ]
  },
  {
   "cell_type": "code",
   "execution_count": 26,
   "id": "168ce830",
   "metadata": {},
   "outputs": [
    {
     "data": {
      "text/html": [
       "<div>\n",
       "<style scoped>\n",
       "    .dataframe tbody tr th:only-of-type {\n",
       "        vertical-align: middle;\n",
       "    }\n",
       "\n",
       "    .dataframe tbody tr th {\n",
       "        vertical-align: top;\n",
       "    }\n",
       "\n",
       "    .dataframe thead th {\n",
       "        text-align: right;\n",
       "    }\n",
       "</style>\n",
       "<table border=\"1\" class=\"dataframe\">\n",
       "  <thead>\n",
       "    <tr style=\"text-align: right;\">\n",
       "      <th></th>\n",
       "      <th>Restaurant Name</th>\n",
       "      <th>Count</th>\n",
       "    </tr>\n",
       "  </thead>\n",
       "  <tbody>\n",
       "    <tr>\n",
       "      <th>0</th>\n",
       "      <td>Cafe Coffee Day</td>\n",
       "      <td>83</td>\n",
       "    </tr>\n",
       "    <tr>\n",
       "      <th>1</th>\n",
       "      <td>Domino's Pizza</td>\n",
       "      <td>79</td>\n",
       "    </tr>\n",
       "    <tr>\n",
       "      <th>2</th>\n",
       "      <td>Subway</td>\n",
       "      <td>63</td>\n",
       "    </tr>\n",
       "    <tr>\n",
       "      <th>3</th>\n",
       "      <td>Green Chick Chop</td>\n",
       "      <td>51</td>\n",
       "    </tr>\n",
       "    <tr>\n",
       "      <th>4</th>\n",
       "      <td>McDonald's</td>\n",
       "      <td>48</td>\n",
       "    </tr>\n",
       "    <tr>\n",
       "      <th>5</th>\n",
       "      <td>Keventers</td>\n",
       "      <td>34</td>\n",
       "    </tr>\n",
       "    <tr>\n",
       "      <th>6</th>\n",
       "      <td>Pizza Hut</td>\n",
       "      <td>30</td>\n",
       "    </tr>\n",
       "    <tr>\n",
       "      <th>7</th>\n",
       "      <td>Giani</td>\n",
       "      <td>29</td>\n",
       "    </tr>\n",
       "    <tr>\n",
       "      <th>8</th>\n",
       "      <td>Baskin Robbins</td>\n",
       "      <td>28</td>\n",
       "    </tr>\n",
       "    <tr>\n",
       "      <th>9</th>\n",
       "      <td>Barbeque Nation</td>\n",
       "      <td>26</td>\n",
       "    </tr>\n",
       "    <tr>\n",
       "      <th>10</th>\n",
       "      <td>Barista</td>\n",
       "      <td>22</td>\n",
       "    </tr>\n",
       "    <tr>\n",
       "      <th>11</th>\n",
       "      <td>Giani's</td>\n",
       "      <td>22</td>\n",
       "    </tr>\n",
       "    <tr>\n",
       "      <th>12</th>\n",
       "      <td>Dunkin' Donuts</td>\n",
       "      <td>22</td>\n",
       "    </tr>\n",
       "  </tbody>\n",
       "</table>\n",
       "</div>"
      ],
      "text/plain": [
       "     Restaurant Name  Count\n",
       "0    Cafe Coffee Day     83\n",
       "1     Domino's Pizza     79\n",
       "2             Subway     63\n",
       "3   Green Chick Chop     51\n",
       "4         McDonald's     48\n",
       "5          Keventers     34\n",
       "6          Pizza Hut     30\n",
       "7              Giani     29\n",
       "8     Baskin Robbins     28\n",
       "9    Barbeque Nation     26\n",
       "10           Barista     22\n",
       "11           Giani's     22\n",
       "12    Dunkin' Donuts     22"
      ]
     },
     "execution_count": 26,
     "metadata": {},
     "output_type": "execute_result"
    }
   ],
   "source": [
    "final_franchise[final_franchise['Count']>20]"
   ]
  },
  {
   "cell_type": "markdown",
   "id": "eed24d16",
   "metadata": {},
   "source": [
    "###### OBSERVATION: Cafe Coffee Day, Domino's pizza, Subway andGreen chick chop has more national presenece. So the first 5 restaurants would be the best for franchising."
   ]
  },
  {
   "cell_type": "markdown",
   "id": "073ffcd9",
   "metadata": {},
   "source": [
    "# Finding the ratio between restaurants that allow table booking vs. those that do not allow table booking:"
   ]
  },
  {
   "cell_type": "code",
   "execution_count": 27,
   "id": "a3289927",
   "metadata": {},
   "outputs": [
    {
     "data": {
      "text/plain": [
       "No     8383\n",
       "Yes    1158\n",
       "Name: Has Table booking, dtype: int64"
      ]
     },
     "execution_count": 27,
     "metadata": {},
     "output_type": "execute_result"
    }
   ],
   "source": [
    "dt1['Has Table booking'].value_counts()"
   ]
  },
  {
   "cell_type": "code",
   "execution_count": 28,
   "id": "8a1a701b",
   "metadata": {},
   "outputs": [
    {
     "name": "stdout",
     "output_type": "stream",
     "text": [
      "Ratio: 0.14\n"
     ]
    }
   ],
   "source": [
    "yes = dt1[dt1['Has Table booking']=='Yes']['Restaurant ID'].count()\n",
    "no = dt1[dt1['Has Table booking']=='No']['Restaurant ID'].count()\n",
    "print('Ratio:',round((yes/no),2))\n"
   ]
  },
  {
   "cell_type": "markdown",
   "id": "538ce5f9",
   "metadata": {},
   "source": [
    "###### OBSERVATION: The ratio of restaurants that allows table booking vs the one that does not are 0.14, means very few are having table booking options."
   ]
  },
  {
   "cell_type": "markdown",
   "id": "e9c32768",
   "metadata": {},
   "source": [
    "# Finding the percentage of restaurants providing online delivery:\n",
    "\n"
   ]
  },
  {
   "cell_type": "code",
   "execution_count": 29,
   "id": "208b4acd",
   "metadata": {},
   "outputs": [
    {
     "name": "stdout",
     "output_type": "stream",
     "text": [
      "Percentage:25.7%\n"
     ]
    }
   ],
   "source": [
    "online = dt1[dt1['Has Online delivery'] == 'Yes']['Restaurant ID'].count()\n",
    "not_online = dt1[dt1['Has Online delivery'] == 'No']['Restaurant ID'].count()\n",
    "print('Percentage:{}%'.format((round(online/len(dt1),3)*100)))"
   ]
  },
  {
   "cell_type": "markdown",
   "id": "2ea1a8bd",
   "metadata": {},
   "source": [
    "###### OBSERVATION: So 25.7% is providing online delivery."
   ]
  },
  {
   "cell_type": "markdown",
   "id": "1ca7c490",
   "metadata": {},
   "source": [
    "# Calculating the difference in number of votes for the restaurants that deliver and the restaurants that do not deliver:\n",
    "\n"
   ]
  },
  {
   "cell_type": "code",
   "execution_count": 30,
   "id": "1b7d0b43",
   "metadata": {},
   "outputs": [
    {
     "data": {
      "text/html": [
       "<div>\n",
       "<style scoped>\n",
       "    .dataframe tbody tr th:only-of-type {\n",
       "        vertical-align: middle;\n",
       "    }\n",
       "\n",
       "    .dataframe tbody tr th {\n",
       "        vertical-align: top;\n",
       "    }\n",
       "\n",
       "    .dataframe thead th {\n",
       "        text-align: right;\n",
       "    }\n",
       "</style>\n",
       "<table border=\"1\" class=\"dataframe\">\n",
       "  <thead>\n",
       "    <tr style=\"text-align: right;\">\n",
       "      <th></th>\n",
       "      <th>Restaurant ID</th>\n",
       "      <th>Country Code</th>\n",
       "      <th>Longitude</th>\n",
       "      <th>Latitude</th>\n",
       "      <th>Average Cost for two</th>\n",
       "      <th>Price range</th>\n",
       "      <th>Aggregate rating</th>\n",
       "      <th>Votes</th>\n",
       "    </tr>\n",
       "    <tr>\n",
       "      <th>Has Online delivery</th>\n",
       "      <th></th>\n",
       "      <th></th>\n",
       "      <th></th>\n",
       "      <th></th>\n",
       "      <th></th>\n",
       "      <th></th>\n",
       "      <th></th>\n",
       "      <th></th>\n",
       "    </tr>\n",
       "  </thead>\n",
       "  <tbody>\n",
       "    <tr>\n",
       "      <th>No</th>\n",
       "      <td>67227164919</td>\n",
       "      <td>165050</td>\n",
       "      <td>425144.965008</td>\n",
       "      <td>177803.058272</td>\n",
       "      <td>9789377</td>\n",
       "      <td>12502</td>\n",
       "      <td>17464.7</td>\n",
       "      <td>977236</td>\n",
       "    </tr>\n",
       "    <tr>\n",
       "      <th>Yes</th>\n",
       "      <td>19063894933</td>\n",
       "      <td>8415</td>\n",
       "      <td>188094.559079</td>\n",
       "      <td>68820.590044</td>\n",
       "      <td>1663335</td>\n",
       "      <td>4718</td>\n",
       "      <td>7962.9</td>\n",
       "      <td>517914</td>\n",
       "    </tr>\n",
       "  </tbody>\n",
       "</table>\n",
       "</div>"
      ],
      "text/plain": [
       "                     Restaurant ID  Country Code      Longitude  \\\n",
       "Has Online delivery                                               \n",
       "No                     67227164919        165050  425144.965008   \n",
       "Yes                    19063894933          8415  188094.559079   \n",
       "\n",
       "                          Latitude  Average Cost for two  Price range  \\\n",
       "Has Online delivery                                                     \n",
       "No                   177803.058272               9789377        12502   \n",
       "Yes                   68820.590044               1663335         4718   \n",
       "\n",
       "                     Aggregate rating   Votes  \n",
       "Has Online delivery                            \n",
       "No                            17464.7  977236  \n",
       "Yes                            7962.9  517914  "
      ]
     },
     "execution_count": 30,
     "metadata": {},
     "output_type": "execute_result"
    }
   ],
   "source": [
    "differ = dt1.groupby(['Has Online delivery']).sum('Votes')\n",
    "differ"
   ]
  },
  {
   "cell_type": "markdown",
   "id": "38895f9d",
   "metadata": {},
   "source": [
    "###### To compare the results cleary, removing unnecessary columns:"
   ]
  },
  {
   "cell_type": "code",
   "execution_count": 31,
   "id": "d4439ca0",
   "metadata": {},
   "outputs": [
    {
     "data": {
      "text/html": [
       "<div>\n",
       "<style scoped>\n",
       "    .dataframe tbody tr th:only-of-type {\n",
       "        vertical-align: middle;\n",
       "    }\n",
       "\n",
       "    .dataframe tbody tr th {\n",
       "        vertical-align: top;\n",
       "    }\n",
       "\n",
       "    .dataframe thead th {\n",
       "        text-align: right;\n",
       "    }\n",
       "</style>\n",
       "<table border=\"1\" class=\"dataframe\">\n",
       "  <thead>\n",
       "    <tr style=\"text-align: right;\">\n",
       "      <th></th>\n",
       "      <th>Votes</th>\n",
       "    </tr>\n",
       "    <tr>\n",
       "      <th>Has Online delivery</th>\n",
       "      <th></th>\n",
       "    </tr>\n",
       "  </thead>\n",
       "  <tbody>\n",
       "    <tr>\n",
       "      <th>No</th>\n",
       "      <td>977236</td>\n",
       "    </tr>\n",
       "    <tr>\n",
       "      <th>Yes</th>\n",
       "      <td>517914</td>\n",
       "    </tr>\n",
       "  </tbody>\n",
       "</table>\n",
       "</div>"
      ],
      "text/plain": [
       "                      Votes\n",
       "Has Online delivery        \n",
       "No                   977236\n",
       "Yes                  517914"
      ]
     },
     "execution_count": 31,
     "metadata": {},
     "output_type": "execute_result"
    }
   ],
   "source": [
    "differ = differ.drop(['Restaurant ID','Country Code','Longitude','Latitude','Average Cost for two',\n",
    "                                          'Price range','Aggregate rating'], axis = 1)\n",
    "differ"
   ]
  },
  {
   "cell_type": "markdown",
   "id": "3c936b94",
   "metadata": {},
   "source": [
    "###### Seems like having online delivery or not having are not a issue that much. Because the restaurant that doesn't have online service is having higher votes than having services."
   ]
  },
  {
   "cell_type": "code",
   "execution_count": 32,
   "id": "eea3c51b",
   "metadata": {},
   "outputs": [
    {
     "name": "stdout",
     "output_type": "stream",
     "text": [
      "The difference in number of votes for the restaurants that deliver and the restaurants that do not deliver:=  459322\n"
     ]
    }
   ],
   "source": [
    "difference_in_votes = differ.iloc[0]['Votes'] - differ.iloc[1]['Votes']\n",
    "print(\"The difference in number of votes for the restaurants that deliver and the restaurants that do not deliver:= \" ,difference_in_votes)\n"
   ]
  },
  {
   "cell_type": "markdown",
   "id": "6af09848",
   "metadata": {},
   "source": [
    "# What are the top 10 cuisines served across cities?\n",
    "\n"
   ]
  },
  {
   "cell_type": "code",
   "execution_count": 33,
   "id": "a3a53926",
   "metadata": {},
   "outputs": [
    {
     "data": {
      "text/plain": [
       "North Indian                      818\n",
       "North Indian, Chinese             438\n",
       "Chinese                           281\n",
       "Fast Food                         263\n",
       "North Indian, Mughlai             254\n",
       "Bakery                            183\n",
       "North Indian, Mughlai, Chinese    176\n",
       "Bakery, Desserts                  154\n",
       "Street Food                       137\n",
       "Cafe                              132\n",
       "Name: Cuisines, dtype: int64"
      ]
     },
     "execution_count": 33,
     "metadata": {},
     "output_type": "execute_result"
    }
   ],
   "source": [
    "dt1.groupby(\"Restaurant Name\")[\"Cuisines\"].max().value_counts().head(10)"
   ]
  },
  {
   "cell_type": "markdown",
   "id": "7c810c98",
   "metadata": {},
   "source": [
    "###### OBSERVATION: North Indian and Chinese cuisines are popular from New Delhi."
   ]
  },
  {
   "cell_type": "markdown",
   "id": "67afda32",
   "metadata": {},
   "source": [
    "# What is the maximum and minimum number of cuisines that a restaurant serves:"
   ]
  },
  {
   "cell_type": "code",
   "execution_count": 34,
   "id": "a2380164",
   "metadata": {},
   "outputs": [
    {
     "data": {
      "text/html": [
       "<div>\n",
       "<style scoped>\n",
       "    .dataframe tbody tr th:only-of-type {\n",
       "        vertical-align: middle;\n",
       "    }\n",
       "\n",
       "    .dataframe tbody tr th {\n",
       "        vertical-align: top;\n",
       "    }\n",
       "\n",
       "    .dataframe thead th {\n",
       "        text-align: right;\n",
       "    }\n",
       "</style>\n",
       "<table border=\"1\" class=\"dataframe\">\n",
       "  <thead>\n",
       "    <tr style=\"text-align: right;\">\n",
       "      <th></th>\n",
       "      <th>Restaurant Name</th>\n",
       "      <th>Cuisines</th>\n",
       "      <th>Restaurant Count</th>\n",
       "    </tr>\n",
       "  </thead>\n",
       "  <tbody>\n",
       "    <tr>\n",
       "      <th>0</th>\n",
       "      <td>Cafe Coffee Day</td>\n",
       "      <td>Cafe</td>\n",
       "      <td>83</td>\n",
       "    </tr>\n",
       "    <tr>\n",
       "      <th>1</th>\n",
       "      <td>Domino's Pizza</td>\n",
       "      <td>Pizza, Fast Food</td>\n",
       "      <td>78</td>\n",
       "    </tr>\n",
       "    <tr>\n",
       "      <th>2</th>\n",
       "      <td>Subway</td>\n",
       "      <td>American, Fast Food, Salad, Healthy Food</td>\n",
       "      <td>62</td>\n",
       "    </tr>\n",
       "    <tr>\n",
       "      <th>3</th>\n",
       "      <td>Green Chick Chop</td>\n",
       "      <td>Raw Meats, North Indian, Fast Food</td>\n",
       "      <td>47</td>\n",
       "    </tr>\n",
       "    <tr>\n",
       "      <th>4</th>\n",
       "      <td>McDonald's</td>\n",
       "      <td>Fast Food, Burger</td>\n",
       "      <td>44</td>\n",
       "    </tr>\n",
       "    <tr>\n",
       "      <th>...</th>\n",
       "      <td>...</td>\n",
       "      <td>...</td>\n",
       "      <td>...</td>\n",
       "    </tr>\n",
       "    <tr>\n",
       "      <th>7934</th>\n",
       "      <td>Fusilli Reasons</td>\n",
       "      <td>Italian</td>\n",
       "      <td>1</td>\n",
       "    </tr>\n",
       "    <tr>\n",
       "      <th>7935</th>\n",
       "      <td>Funkey Monkey</td>\n",
       "      <td>Breakfast, Coffee and Tea</td>\n",
       "      <td>1</td>\n",
       "    </tr>\n",
       "    <tr>\n",
       "      <th>7936</th>\n",
       "      <td>Funk House Cafe</td>\n",
       "      <td>Cafe, Italian, Salad</td>\n",
       "      <td>1</td>\n",
       "    </tr>\n",
       "    <tr>\n",
       "      <th>7937</th>\n",
       "      <td>Funduz Cafe</td>\n",
       "      <td>Fast Food</td>\n",
       "      <td>1</td>\n",
       "    </tr>\n",
       "    <tr>\n",
       "      <th>7938</th>\n",
       "      <td>Ìàukura€Ùa Sofras€±</td>\n",
       "      <td>Kebab, Izgara</td>\n",
       "      <td>1</td>\n",
       "    </tr>\n",
       "  </tbody>\n",
       "</table>\n",
       "<p>7939 rows × 3 columns</p>\n",
       "</div>"
      ],
      "text/plain": [
       "          Restaurant Name                                  Cuisines  \\\n",
       "0         Cafe Coffee Day                                      Cafe   \n",
       "1          Domino's Pizza                          Pizza, Fast Food   \n",
       "2                  Subway  American, Fast Food, Salad, Healthy Food   \n",
       "3        Green Chick Chop        Raw Meats, North Indian, Fast Food   \n",
       "4              McDonald's                         Fast Food, Burger   \n",
       "...                   ...                                       ...   \n",
       "7934      Fusilli Reasons                                   Italian   \n",
       "7935        Funkey Monkey                 Breakfast, Coffee and Tea   \n",
       "7936      Funk House Cafe                      Cafe, Italian, Salad   \n",
       "7937          Funduz Cafe                                 Fast Food   \n",
       "7938  Ìàukura€Ùa Sofras€±                             Kebab, Izgara   \n",
       "\n",
       "      Restaurant Count  \n",
       "0                   83  \n",
       "1                   78  \n",
       "2                   62  \n",
       "3                   47  \n",
       "4                   44  \n",
       "...                ...  \n",
       "7934                 1  \n",
       "7935                 1  \n",
       "7936                 1  \n",
       "7937                 1  \n",
       "7938                 1  \n",
       "\n",
       "[7939 rows x 3 columns]"
      ]
     },
     "execution_count": 34,
     "metadata": {},
     "output_type": "execute_result"
    }
   ],
   "source": [
    "r_cuisines = dt1.groupby(['Restaurant Name','Cuisines']).agg( Count = ('Cuisines','count')).reset_index()\n",
    "r_cuisines = r_cuisines.sort_values(by = 'Count', ascending = False).reset_index(drop=True)\n",
    "r_cuisines.rename(columns={'Count':'Restaurant Count'}, inplace=True)\n",
    "r_cuisines"
   ]
  },
  {
   "cell_type": "code",
   "execution_count": 35,
   "id": "93172ccd",
   "metadata": {},
   "outputs": [
    {
     "data": {
      "text/html": [
       "<div>\n",
       "<style scoped>\n",
       "    .dataframe tbody tr th:only-of-type {\n",
       "        vertical-align: middle;\n",
       "    }\n",
       "\n",
       "    .dataframe tbody tr th {\n",
       "        vertical-align: top;\n",
       "    }\n",
       "\n",
       "    .dataframe thead th {\n",
       "        text-align: right;\n",
       "    }\n",
       "</style>\n",
       "<table border=\"1\" class=\"dataframe\">\n",
       "  <thead>\n",
       "    <tr style=\"text-align: right;\">\n",
       "      <th></th>\n",
       "      <th>Restaurant Name</th>\n",
       "      <th>Cuisines</th>\n",
       "      <th>Restaurant Count</th>\n",
       "      <th>Cuisines Count</th>\n",
       "    </tr>\n",
       "  </thead>\n",
       "  <tbody>\n",
       "    <tr>\n",
       "      <th>0</th>\n",
       "      <td>Bikanervala</td>\n",
       "      <td>[North Indian,  South Indian,  Fast Food,  Str...</td>\n",
       "      <td>8</td>\n",
       "      <td>8</td>\n",
       "    </tr>\n",
       "    <tr>\n",
       "      <th>1</th>\n",
       "      <td>R' ADDA</td>\n",
       "      <td>[Street Food,  Burger,  Desserts,  Italian,  P...</td>\n",
       "      <td>1</td>\n",
       "      <td>8</td>\n",
       "    </tr>\n",
       "    <tr>\n",
       "      <th>2</th>\n",
       "      <td>Healthy Food Station</td>\n",
       "      <td>[Salad,  Healthy Food,  Burger,  Italian,  Con...</td>\n",
       "      <td>1</td>\n",
       "      <td>8</td>\n",
       "    </tr>\n",
       "    <tr>\n",
       "      <th>3</th>\n",
       "      <td>Marble</td>\n",
       "      <td>[Continental,  South African,  Beverages,  Des...</td>\n",
       "      <td>1</td>\n",
       "      <td>8</td>\n",
       "    </tr>\n",
       "    <tr>\n",
       "      <th>4</th>\n",
       "      <td>The Belgian Triple</td>\n",
       "      <td>[Healthy Food,  Seafood,  Beverages,  Belgian,...</td>\n",
       "      <td>1</td>\n",
       "      <td>8</td>\n",
       "    </tr>\n",
       "    <tr>\n",
       "      <th>...</th>\n",
       "      <td>...</td>\n",
       "      <td>...</td>\n",
       "      <td>...</td>\n",
       "      <td>...</td>\n",
       "    </tr>\n",
       "    <tr>\n",
       "      <th>7934</th>\n",
       "      <td>Aap Ki Khatir</td>\n",
       "      <td>[North Indian]</td>\n",
       "      <td>1</td>\n",
       "      <td>1</td>\n",
       "    </tr>\n",
       "    <tr>\n",
       "      <th>7935</th>\n",
       "      <td>Aggarwal Sweets Corner</td>\n",
       "      <td>[Mithai]</td>\n",
       "      <td>1</td>\n",
       "      <td>1</td>\n",
       "    </tr>\n",
       "    <tr>\n",
       "      <th>7936</th>\n",
       "      <td>The Second Wife Kitchen</td>\n",
       "      <td>[North Indian]</td>\n",
       "      <td>1</td>\n",
       "      <td>1</td>\n",
       "    </tr>\n",
       "    <tr>\n",
       "      <th>7937</th>\n",
       "      <td>The Singing Tree</td>\n",
       "      <td>[Beverages]</td>\n",
       "      <td>1</td>\n",
       "      <td>1</td>\n",
       "    </tr>\n",
       "    <tr>\n",
       "      <th>7938</th>\n",
       "      <td>Cafe Coffee Day</td>\n",
       "      <td>[Cafe]</td>\n",
       "      <td>83</td>\n",
       "      <td>1</td>\n",
       "    </tr>\n",
       "  </tbody>\n",
       "</table>\n",
       "<p>7939 rows × 4 columns</p>\n",
       "</div>"
      ],
      "text/plain": [
       "              Restaurant Name  \\\n",
       "0                 Bikanervala   \n",
       "1                     R' ADDA   \n",
       "2        Healthy Food Station   \n",
       "3                      Marble   \n",
       "4          The Belgian Triple   \n",
       "...                       ...   \n",
       "7934            Aap Ki Khatir   \n",
       "7935   Aggarwal Sweets Corner   \n",
       "7936  The Second Wife Kitchen   \n",
       "7937         The Singing Tree   \n",
       "7938          Cafe Coffee Day   \n",
       "\n",
       "                                               Cuisines  Restaurant Count  \\\n",
       "0     [North Indian,  South Indian,  Fast Food,  Str...                 8   \n",
       "1     [Street Food,  Burger,  Desserts,  Italian,  P...                 1   \n",
       "2     [Salad,  Healthy Food,  Burger,  Italian,  Con...                 1   \n",
       "3     [Continental,  South African,  Beverages,  Des...                 1   \n",
       "4     [Healthy Food,  Seafood,  Beverages,  Belgian,...                 1   \n",
       "...                                                 ...               ...   \n",
       "7934                                     [North Indian]                 1   \n",
       "7935                                           [Mithai]                 1   \n",
       "7936                                     [North Indian]                 1   \n",
       "7937                                        [Beverages]                 1   \n",
       "7938                                             [Cafe]                83   \n",
       "\n",
       "      Cuisines Count  \n",
       "0                  8  \n",
       "1                  8  \n",
       "2                  8  \n",
       "3                  8  \n",
       "4                  8  \n",
       "...              ...  \n",
       "7934               1  \n",
       "7935               1  \n",
       "7936               1  \n",
       "7937               1  \n",
       "7938               1  \n",
       "\n",
       "[7939 rows x 4 columns]"
      ]
     },
     "execution_count": 35,
     "metadata": {},
     "output_type": "execute_result"
    }
   ],
   "source": [
    "r_cuisines['Cuisines'] = r_cuisines['Cuisines'].str.split(',')\n",
    "r_cuisines['Cuisines Count'] = r_cuisines['Cuisines'].apply(lambda x : len(x))\n",
    "r_cuisines = r_cuisines.sort_values(by = 'Cuisines Count', ascending = False).reset_index(drop=True)\n",
    "r_cuisines"
   ]
  },
  {
   "cell_type": "markdown",
   "id": "02593b60",
   "metadata": {},
   "source": [
    "###### OBSERVATION: So there are some restaurants like R' ADDA,Healthy Food Station,The Belgian Triple and many more are serving 8 different cuisines in 1 restuarants. In contrast, Cafe cofffee day has a 83 restaurant counts and serving 1 same cuisine."
   ]
  },
  {
   "cell_type": "markdown",
   "id": "ace8cdd6",
   "metadata": {},
   "source": [
    "# which is the most served cuisine across the restaurant for each city:"
   ]
  },
  {
   "cell_type": "code",
   "execution_count": 36,
   "id": "e66a6102",
   "metadata": {},
   "outputs": [
    {
     "data": {
      "text/html": [
       "<div>\n",
       "<style scoped>\n",
       "    .dataframe tbody tr th:only-of-type {\n",
       "        vertical-align: middle;\n",
       "    }\n",
       "\n",
       "    .dataframe tbody tr th {\n",
       "        vertical-align: top;\n",
       "    }\n",
       "\n",
       "    .dataframe thead th {\n",
       "        text-align: right;\n",
       "    }\n",
       "</style>\n",
       "<table border=\"1\" class=\"dataframe\">\n",
       "  <thead>\n",
       "    <tr style=\"text-align: right;\">\n",
       "      <th></th>\n",
       "      <th>Cuisines</th>\n",
       "      <th>City</th>\n",
       "      <th>Count</th>\n",
       "    </tr>\n",
       "  </thead>\n",
       "  <tbody>\n",
       "    <tr>\n",
       "      <th>0</th>\n",
       "      <td>North Indian</td>\n",
       "      <td>New Delhi</td>\n",
       "      <td>658</td>\n",
       "    </tr>\n",
       "    <tr>\n",
       "      <th>1</th>\n",
       "      <td>North Indian, Chinese</td>\n",
       "      <td>New Delhi</td>\n",
       "      <td>284</td>\n",
       "    </tr>\n",
       "    <tr>\n",
       "      <th>2</th>\n",
       "      <td>Fast Food</td>\n",
       "      <td>New Delhi</td>\n",
       "      <td>242</td>\n",
       "    </tr>\n",
       "    <tr>\n",
       "      <th>3</th>\n",
       "      <td>Chinese</td>\n",
       "      <td>New Delhi</td>\n",
       "      <td>228</td>\n",
       "    </tr>\n",
       "    <tr>\n",
       "      <th>4</th>\n",
       "      <td>North Indian, Mughlai</td>\n",
       "      <td>New Delhi</td>\n",
       "      <td>207</td>\n",
       "    </tr>\n",
       "    <tr>\n",
       "      <th>5</th>\n",
       "      <td>Cafe</td>\n",
       "      <td>New Delhi</td>\n",
       "      <td>158</td>\n",
       "    </tr>\n",
       "    <tr>\n",
       "      <th>6</th>\n",
       "      <td>Street Food</td>\n",
       "      <td>New Delhi</td>\n",
       "      <td>123</td>\n",
       "    </tr>\n",
       "    <tr>\n",
       "      <th>7</th>\n",
       "      <td>Bakery</td>\n",
       "      <td>New Delhi</td>\n",
       "      <td>122</td>\n",
       "    </tr>\n",
       "    <tr>\n",
       "      <th>8</th>\n",
       "      <td>North Indian, Mughlai, Chinese</td>\n",
       "      <td>New Delhi</td>\n",
       "      <td>120</td>\n",
       "    </tr>\n",
       "    <tr>\n",
       "      <th>9</th>\n",
       "      <td>Bakery, Desserts</td>\n",
       "      <td>New Delhi</td>\n",
       "      <td>117</td>\n",
       "    </tr>\n",
       "  </tbody>\n",
       "</table>\n",
       "</div>"
      ],
      "text/plain": [
       "                         Cuisines       City  Count\n",
       "0                    North Indian  New Delhi    658\n",
       "1           North Indian, Chinese  New Delhi    284\n",
       "2                       Fast Food  New Delhi    242\n",
       "3                         Chinese  New Delhi    228\n",
       "4           North Indian, Mughlai  New Delhi    207\n",
       "5                            Cafe  New Delhi    158\n",
       "6                     Street Food  New Delhi    123\n",
       "7                          Bakery  New Delhi    122\n",
       "8  North Indian, Mughlai, Chinese  New Delhi    120\n",
       "9                Bakery, Desserts  New Delhi    117"
      ]
     },
     "execution_count": 36,
     "metadata": {},
     "output_type": "execute_result"
    }
   ],
   "source": [
    "cuisines = dt1.groupby(['Cuisines','City']).agg( Count = ('City','count')).reset_index()\n",
    "cuisines = cuisines.sort_values(by = 'Count', ascending = False).reset_index(drop=True)\n",
    "\n",
    "cuisines.head(10)"
   ]
  },
  {
   "cell_type": "markdown",
   "id": "ddec733c",
   "metadata": {},
   "source": [
    "# What is the distribution cost across the restaurants? \n",
    "\n"
   ]
  },
  {
   "cell_type": "code",
   "execution_count": 37,
   "id": "2213590f",
   "metadata": {},
   "outputs": [
    {
     "data": {
      "image/png": "[encoded data removed]",
      "text/plain": [
       "<Figure size 1080x576 with 1 Axes>"
      ]
     },
     "metadata": {},
     "output_type": "display_data"
    }
   ],
   "source": [
    "cost = sns.boxplot(x=dt1[\"Currency\"],y=dt1[\"Average Cost for two\"])\n",
    "plt.xticks(rotation = 90)\n",
    "plt.show()"
   ]
  },
  {
   "cell_type": "markdown",
   "id": "3a5a6a59",
   "metadata": {},
   "source": [
    "###### Since in Indonesian currency, Average Cost for two varies between 100000 to 800000, the plot looks unequal. Other currencies are ranging between 0 and 8000\n"
   ]
  },
  {
   "cell_type": "code",
   "execution_count": 38,
   "id": "6dc31b1b",
   "metadata": {},
   "outputs": [
    {
     "data": {
      "text/plain": [
       "North Indian                                                  936\n",
       "North Indian, Chinese                                         511\n",
       "Chinese                                                       354\n",
       "Fast Food                                                     354\n",
       "North Indian, Mughlai                                         334\n",
       "                                                             ... \n",
       "Continental, Mexican, North Indian, Chinese                     1\n",
       "Cafe, Mexican, Italian, Continental                             1\n",
       "Cafe, Continental, Italian, Street Food                         1\n",
       "Cafe, Lebanese, Italian                                         1\n",
       "Cafe, Continental, Desserts, Ice Cream, Italian, Beverages      1\n",
       "Name: Cuisines, Length: 1825, dtype: int64"
      ]
     },
     "execution_count": 38,
     "metadata": {},
     "output_type": "execute_result"
    }
   ],
   "source": [
    "da=dt1[\"Cuisines\"].value_counts()\n",
    "da"
   ]
  },
  {
   "cell_type": "code",
   "execution_count": 39,
   "id": "94849414",
   "metadata": {},
   "outputs": [
    {
     "data": {
      "text/html": [
       "<div>\n",
       "<style scoped>\n",
       "    .dataframe tbody tr th:only-of-type {\n",
       "        vertical-align: middle;\n",
       "    }\n",
       "\n",
       "    .dataframe tbody tr th {\n",
       "        vertical-align: top;\n",
       "    }\n",
       "\n",
       "    .dataframe thead th {\n",
       "        text-align: right;\n",
       "    }\n",
       "</style>\n",
       "<table border=\"1\" class=\"dataframe\">\n",
       "  <thead>\n",
       "    <tr style=\"text-align: right;\">\n",
       "      <th></th>\n",
       "      <th>Restaurant ID</th>\n",
       "      <th>Restaurant Name</th>\n",
       "      <th>Country Code</th>\n",
       "      <th>City</th>\n",
       "      <th>Address</th>\n",
       "      <th>Locality</th>\n",
       "      <th>Locality Verbose</th>\n",
       "      <th>Longitude</th>\n",
       "      <th>Latitude</th>\n",
       "      <th>Cuisines</th>\n",
       "      <th>...</th>\n",
       "      <th>Currency</th>\n",
       "      <th>Has Table booking</th>\n",
       "      <th>Has Online delivery</th>\n",
       "      <th>Price range</th>\n",
       "      <th>Aggregate rating</th>\n",
       "      <th>Rating color</th>\n",
       "      <th>Rating text</th>\n",
       "      <th>Votes</th>\n",
       "      <th>Country</th>\n",
       "      <th>No_of_cuisines</th>\n",
       "    </tr>\n",
       "  </thead>\n",
       "  <tbody>\n",
       "    <tr>\n",
       "      <th>0</th>\n",
       "      <td>7402935</td>\n",
       "      <td>Skye</td>\n",
       "      <td>94</td>\n",
       "      <td>Jakarta</td>\n",
       "      <td>Menara BCA, Lantai 56, Jl. MH. Thamrin, Thamri...</td>\n",
       "      <td>Grand Indonesia Mall, Thamrin</td>\n",
       "      <td>Grand Indonesia Mall, Thamrin, Jakarta</td>\n",
       "      <td>106.821999</td>\n",
       "      <td>-6.196778</td>\n",
       "      <td>Italian, Continental</td>\n",
       "      <td>...</td>\n",
       "      <td>Indonesian Rupiah(IDR)</td>\n",
       "      <td>No</td>\n",
       "      <td>No</td>\n",
       "      <td>3</td>\n",
       "      <td>4.1</td>\n",
       "      <td>Green</td>\n",
       "      <td>Very Good</td>\n",
       "      <td>1498</td>\n",
       "      <td>Indonesia</td>\n",
       "      <td>2.0</td>\n",
       "    </tr>\n",
       "    <tr>\n",
       "      <th>1</th>\n",
       "      <td>7410290</td>\n",
       "      <td>Satoo - Hotel Shangri-La</td>\n",
       "      <td>94</td>\n",
       "      <td>Jakarta</td>\n",
       "      <td>Hotel Shangri-La, Jl. Jend. Sudirman</td>\n",
       "      <td>Hotel Shangri-La, Sudirman</td>\n",
       "      <td>Hotel Shangri-La, Sudirman, Jakarta</td>\n",
       "      <td>106.818961</td>\n",
       "      <td>-6.203292</td>\n",
       "      <td>Asian, Indonesian, Western</td>\n",
       "      <td>...</td>\n",
       "      <td>Indonesian Rupiah(IDR)</td>\n",
       "      <td>No</td>\n",
       "      <td>No</td>\n",
       "      <td>3</td>\n",
       "      <td>4.6</td>\n",
       "      <td>Dark Green</td>\n",
       "      <td>Excellent</td>\n",
       "      <td>873</td>\n",
       "      <td>Indonesia</td>\n",
       "      <td>3.0</td>\n",
       "    </tr>\n",
       "    <tr>\n",
       "      <th>2</th>\n",
       "      <td>7420899</td>\n",
       "      <td>Sushi Masa</td>\n",
       "      <td>94</td>\n",
       "      <td>Jakarta</td>\n",
       "      <td>Jl. Tuna Raya No. 5, Penjaringan</td>\n",
       "      <td>Penjaringan</td>\n",
       "      <td>Penjaringan, Jakarta</td>\n",
       "      <td>106.800144</td>\n",
       "      <td>-6.101298</td>\n",
       "      <td>Sushi, Japanese</td>\n",
       "      <td>...</td>\n",
       "      <td>Indonesian Rupiah(IDR)</td>\n",
       "      <td>No</td>\n",
       "      <td>No</td>\n",
       "      <td>3</td>\n",
       "      <td>4.9</td>\n",
       "      <td>Dark Green</td>\n",
       "      <td>Excellent</td>\n",
       "      <td>605</td>\n",
       "      <td>Indonesia</td>\n",
       "      <td>2.0</td>\n",
       "    </tr>\n",
       "    <tr>\n",
       "      <th>3</th>\n",
       "      <td>7421967</td>\n",
       "      <td>3 Wise Monkeys</td>\n",
       "      <td>94</td>\n",
       "      <td>Jakarta</td>\n",
       "      <td>Jl. Suryo No. 26, Senopati, Jakarta</td>\n",
       "      <td>Senopati</td>\n",
       "      <td>Senopati, Jakarta</td>\n",
       "      <td>106.813400</td>\n",
       "      <td>-6.235241</td>\n",
       "      <td>Japanese</td>\n",
       "      <td>...</td>\n",
       "      <td>Indonesian Rupiah(IDR)</td>\n",
       "      <td>No</td>\n",
       "      <td>No</td>\n",
       "      <td>3</td>\n",
       "      <td>4.2</td>\n",
       "      <td>Green</td>\n",
       "      <td>Very Good</td>\n",
       "      <td>395</td>\n",
       "      <td>Indonesia</td>\n",
       "      <td>1.0</td>\n",
       "    </tr>\n",
       "    <tr>\n",
       "      <th>4</th>\n",
       "      <td>7422489</td>\n",
       "      <td>Avec Moi Restaurant and Bar</td>\n",
       "      <td>94</td>\n",
       "      <td>Jakarta</td>\n",
       "      <td>Gedung PIC, Jl. Teluk Betung 43, Thamrin, Jakarta</td>\n",
       "      <td>Thamrin</td>\n",
       "      <td>Thamrin, Jakarta</td>\n",
       "      <td>106.821023</td>\n",
       "      <td>-6.196270</td>\n",
       "      <td>French, Western</td>\n",
       "      <td>...</td>\n",
       "      <td>Indonesian Rupiah(IDR)</td>\n",
       "      <td>No</td>\n",
       "      <td>No</td>\n",
       "      <td>3</td>\n",
       "      <td>4.3</td>\n",
       "      <td>Green</td>\n",
       "      <td>Very Good</td>\n",
       "      <td>243</td>\n",
       "      <td>Indonesia</td>\n",
       "      <td>2.0</td>\n",
       "    </tr>\n",
       "  </tbody>\n",
       "</table>\n",
       "<p>5 rows × 21 columns</p>\n",
       "</div>"
      ],
      "text/plain": [
       "   Restaurant ID              Restaurant Name  Country Code     City  \\\n",
       "0        7402935                         Skye            94  Jakarta   \n",
       "1        7410290     Satoo - Hotel Shangri-La            94  Jakarta   \n",
       "2        7420899                   Sushi Masa            94  Jakarta   \n",
       "3        7421967               3 Wise Monkeys            94  Jakarta   \n",
       "4        7422489  Avec Moi Restaurant and Bar            94  Jakarta   \n",
       "\n",
       "                                             Address  \\\n",
       "0  Menara BCA, Lantai 56, Jl. MH. Thamrin, Thamri...   \n",
       "1               Hotel Shangri-La, Jl. Jend. Sudirman   \n",
       "2                   Jl. Tuna Raya No. 5, Penjaringan   \n",
       "3                Jl. Suryo No. 26, Senopati, Jakarta   \n",
       "4  Gedung PIC, Jl. Teluk Betung 43, Thamrin, Jakarta   \n",
       "\n",
       "                        Locality                        Locality Verbose  \\\n",
       "0  Grand Indonesia Mall, Thamrin  Grand Indonesia Mall, Thamrin, Jakarta   \n",
       "1     Hotel Shangri-La, Sudirman     Hotel Shangri-La, Sudirman, Jakarta   \n",
       "2                    Penjaringan                    Penjaringan, Jakarta   \n",
       "3                       Senopati                       Senopati, Jakarta   \n",
       "4                        Thamrin                        Thamrin, Jakarta   \n",
       "\n",
       "    Longitude  Latitude                    Cuisines  ...  \\\n",
       "0  106.821999 -6.196778        Italian, Continental  ...   \n",
       "1  106.818961 -6.203292  Asian, Indonesian, Western  ...   \n",
       "2  106.800144 -6.101298             Sushi, Japanese  ...   \n",
       "3  106.813400 -6.235241                    Japanese  ...   \n",
       "4  106.821023 -6.196270             French, Western  ...   \n",
       "\n",
       "                 Currency Has Table booking Has Online delivery Price range  \\\n",
       "0  Indonesian Rupiah(IDR)                No                  No           3   \n",
       "1  Indonesian Rupiah(IDR)                No                  No           3   \n",
       "2  Indonesian Rupiah(IDR)                No                  No           3   \n",
       "3  Indonesian Rupiah(IDR)                No                  No           3   \n",
       "4  Indonesian Rupiah(IDR)                No                  No           3   \n",
       "\n",
       "   Aggregate rating  Rating color Rating text Votes    Country No_of_cuisines  \n",
       "0               4.1         Green   Very Good  1498  Indonesia            2.0  \n",
       "1               4.6    Dark Green   Excellent   873  Indonesia            3.0  \n",
       "2               4.9    Dark Green   Excellent   605  Indonesia            2.0  \n",
       "3               4.2         Green   Very Good   395  Indonesia            1.0  \n",
       "4               4.3         Green   Very Good   243  Indonesia            2.0  \n",
       "\n",
       "[5 rows x 21 columns]"
      ]
     },
     "execution_count": 39,
     "metadata": {},
     "output_type": "execute_result"
    }
   ],
   "source": [
    "dt1[\"No_of_cuisines\"]=dt[\"Cuisines\"].str.strip().str.split(',').apply(len)\n",
    "dt1.head(5)"
   ]
  },
  {
   "cell_type": "code",
   "execution_count": 41,
   "id": "b3805e5a",
   "metadata": {},
   "outputs": [
    {
     "data": {
      "text/plain": [
       "0       2.0\n",
       "1       3.0\n",
       "2       2.0\n",
       "3       1.0\n",
       "4       2.0\n",
       "       ... \n",
       "9536    2.0\n",
       "9537    1.0\n",
       "9538    3.0\n",
       "9539    NaN\n",
       "9540    2.0\n",
       "Name: No_of_cuisines, Length: 9541, dtype: float64"
      ]
     },
     "execution_count": 41,
     "metadata": {},
     "output_type": "execute_result"
    }
   ],
   "source": [
    "dt1[\"No_of_cuisines\"]"
   ]
  },
  {
   "cell_type": "markdown",
   "id": "7d59051f",
   "metadata": {},
   "source": [
    "# Checking for correlation between no. of cuisines vs ratings:"
   ]
  },
  {
   "cell_type": "code",
   "execution_count": 45,
   "id": "c972a42f",
   "metadata": {},
   "outputs": [
    {
     "name": "stderr",
     "output_type": "stream",
     "text": [
      "C:\\Users\\admin\\anaconda3\\lib\\site-packages\\seaborn\\_decorators.py:36: FutureWarning: Pass the following variables as keyword args: x, y. From version 0.12, the only valid positional argument will be `data`, and passing other arguments without an explicit keyword will result in an error or misinterpretation.\n",
      "  warnings.warn(\n"
     ]
    },
    {
     "data": {
      "text/plain": [
       "<AxesSubplot:xlabel='No_of_cuisines', ylabel='Aggregate rating'>"
      ]
     },
     "execution_count": 45,
     "metadata": {},
     "output_type": "execute_result"
    },
    {
     "data": {
      "image/png": "[encoded data removed]",
      "text/plain": [
       "<Figure size 1080x576 with 1 Axes>"
      ]
     },
     "metadata": {},
     "output_type": "display_data"
    }
   ],
   "source": [
    "sns.barplot(dt1['No_of_cuisines'],dt1['Aggregate rating'])\n"
   ]
  },
  {
   "cell_type": "code",
   "execution_count": 46,
   "id": "2220d627",
   "metadata": {},
   "outputs": [
    {
     "name": "stderr",
     "output_type": "stream",
     "text": [
      "C:\\Users\\admin\\anaconda3\\lib\\site-packages\\seaborn\\_decorators.py:36: FutureWarning: Pass the following variables as keyword args: x, y. From version 0.12, the only valid positional argument will be `data`, and passing other arguments without an explicit keyword will result in an error or misinterpretation.\n",
      "  warnings.warn(\n"
     ]
    },
    {
     "data": {
      "text/plain": [
       "<AxesSubplot:xlabel='No_of_cuisines', ylabel='Aggregate rating'>"
      ]
     },
     "execution_count": 46,
     "metadata": {},
     "output_type": "execute_result"
    },
    {
     "data": {
      "image/png": "[encoded data removed]",
      "text/plain": [
       "<Figure size 1080x576 with 1 Axes>"
      ]
     },
     "metadata": {},
     "output_type": "display_data"
    }
   ],
   "source": [
    "sns.boxplot(dt1['No_of_cuisines'],dt1['Aggregate rating'])\n"
   ]
  },
  {
   "cell_type": "markdown",
   "id": "bd974819",
   "metadata": {},
   "source": [
    "###### OBSERVATION: So when no of cuisines are high, rating also high."
   ]
  },
  {
   "cell_type": "markdown",
   "id": "7a59e4f0",
   "metadata": {},
   "source": [
    "# Exporting the analysed file for further visualization."
   ]
  },
  {
   "cell_type": "code",
   "execution_count": 44,
   "id": "c04216c7",
   "metadata": {},
   "outputs": [],
   "source": [
    "dt1.to_excel(\"CapstoneFinal.xlsx\")"
   ]
  },
  {
   "cell_type": "markdown",
   "id": "2cfbaa04",
   "metadata": {},
   "source": [
    "# All the analysis done as per requirement, the information can be further move for preparing a ML model."
   ]
  }
 ],
 "metadata": {
  "kernelspec": {
   "display_name": "Python 3 (ipykernel)",
   "language": "python",
   "name": "python3"
  },
  "language_info": {
   "codemirror_mode": {
    "name": "ipython",
    "version": 3
   },
   "file_extension": ".py",
   "mimetype": "text/x-python",
   "name": "python",
   "nbconvert_exporter": "python",
   "pygments_lexer": "ipython3",
   "version": "3.9.7"
  }
 },
 "nbformat": 4,
 "nbformat_minor": 5
}
